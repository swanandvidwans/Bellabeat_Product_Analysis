{
  "nbformat": 4,
  "nbformat_minor": 0,
  "metadata": {
    "colab": {
      "name": "Bellabeat.ipynb",
      "provenance": [],
      "collapsed_sections": []
    },
    "kernelspec": {
      "name": "python3",
      "display_name": "Python 3"
    },
    "language_info": {
      "name": "python"
    }
  },
  "cells": [
    {
      "cell_type": "markdown",
      "metadata": {
        "id": "5uDcV71jceXg"
      },
      "source": [
        "# Mount Drive"
      ]
    },
    {
      "cell_type": "code",
      "metadata": {
        "colab": {
          "base_uri": "https://localhost:8080/"
        },
        "id": "6cld3K2RchmO",
        "outputId": "2ea00f2a-565b-4e14-9ebc-378fa036bf58"
      },
      "source": [
        "from google.colab import drive\n",
        "drive.mount('/content/drive')"
      ],
      "execution_count": 108,
      "outputs": [
        {
          "output_type": "stream",
          "name": "stdout",
          "text": [
            "Drive already mounted at /content/drive; to attempt to forcibly remount, call drive.mount(\"/content/drive\", force_remount=True).\n"
          ]
        }
      ]
    },
    {
      "cell_type": "markdown",
      "metadata": {
        "id": "P6feVZCUkEUN"
      },
      "source": [
        "# Imports"
      ]
    },
    {
      "cell_type": "code",
      "metadata": {
        "id": "Qp43OJawkG-7"
      },
      "source": [
        "import numpy as np\n",
        "import pandas as pd\n",
        "import matplotlib.pyplot as plt\n",
        "%matplotlib inline \n",
        "import plotnine\n",
        "from plotnine import *\n",
        "from plotnine.data import *\n",
        "import seaborn as sns"
      ],
      "execution_count": 109,
      "outputs": []
    },
    {
      "cell_type": "markdown",
      "metadata": {
        "id": "sP1YSIZPkIXi"
      },
      "source": [
        "# Input Data"
      ]
    },
    {
      "cell_type": "code",
      "metadata": {
        "id": "hI9RbmVskLir"
      },
      "source": [
        "dailyActivity = pd.read_csv(\"/content/drive/MyDrive/Colab Notebooks/Bellabeat/Data/dailyActivity_merged.csv\")\n",
        "dailyCalories = pd.read_csv(\"/content/drive/MyDrive/Colab Notebooks/Bellabeat/Data/dailyCalories_merged.csv\")\n",
        "dailyIntensities = pd.read_csv(\"/content/drive/MyDrive/Colab Notebooks/Bellabeat/Data/dailyIntensities_merged.csv\")\n",
        "dailySteps = pd.read_csv(\"/content/drive/MyDrive/Colab Notebooks/Bellabeat/Data/dailySteps_merged.csv\")\n",
        "sleepDay = pd.read_csv(\"/content/drive/MyDrive/Colab Notebooks/Bellabeat/Data/sleepDay_merged.csv\")\n",
        "weightLogInfo = pd.read_csv(\"/content/drive/MyDrive/Colab Notebooks/Bellabeat/Data/weightLogInfo_merged.csv\")"
      ],
      "execution_count": 110,
      "outputs": []
    },
    {
      "cell_type": "markdown",
      "metadata": {
        "id": "FECELPYCL3mp"
      },
      "source": [
        "# Combine Input data files"
      ]
    },
    {
      "cell_type": "code",
      "metadata": {
        "colab": {
          "base_uri": "https://localhost:8080/",
          "height": 226
        },
        "id": "dYqdjEAyKrM4",
        "outputId": "5557fe5a-9f94-43d1-95d1-20a446eccc1e"
      },
      "source": [
        "dailyActivity.head()"
      ],
      "execution_count": null,
      "outputs": [
        {
          "output_type": "execute_result",
          "data": {
            "text/html": [
              "<div>\n",
              "<style scoped>\n",
              "    .dataframe tbody tr th:only-of-type {\n",
              "        vertical-align: middle;\n",
              "    }\n",
              "\n",
              "    .dataframe tbody tr th {\n",
              "        vertical-align: top;\n",
              "    }\n",
              "\n",
              "    .dataframe thead th {\n",
              "        text-align: right;\n",
              "    }\n",
              "</style>\n",
              "<table border=\"1\" class=\"dataframe\">\n",
              "  <thead>\n",
              "    <tr style=\"text-align: right;\">\n",
              "      <th></th>\n",
              "      <th>Id</th>\n",
              "      <th>ActivityDate</th>\n",
              "      <th>TotalSteps</th>\n",
              "      <th>TotalDistance</th>\n",
              "      <th>TrackerDistance</th>\n",
              "      <th>LoggedActivitiesDistance</th>\n",
              "      <th>VeryActiveDistance</th>\n",
              "      <th>ModeratelyActiveDistance</th>\n",
              "      <th>LightActiveDistance</th>\n",
              "      <th>SedentaryActiveDistance</th>\n",
              "      <th>VeryActiveMinutes</th>\n",
              "      <th>FairlyActiveMinutes</th>\n",
              "      <th>LightlyActiveMinutes</th>\n",
              "      <th>SedentaryMinutes</th>\n",
              "      <th>Calories</th>\n",
              "    </tr>\n",
              "  </thead>\n",
              "  <tbody>\n",
              "    <tr>\n",
              "      <th>0</th>\n",
              "      <td>1503960366</td>\n",
              "      <td>4/12/2016</td>\n",
              "      <td>13162</td>\n",
              "      <td>8.50</td>\n",
              "      <td>8.50</td>\n",
              "      <td>0.0</td>\n",
              "      <td>1.88</td>\n",
              "      <td>0.55</td>\n",
              "      <td>6.06</td>\n",
              "      <td>0.0</td>\n",
              "      <td>25</td>\n",
              "      <td>13</td>\n",
              "      <td>328</td>\n",
              "      <td>728</td>\n",
              "      <td>1985</td>\n",
              "    </tr>\n",
              "    <tr>\n",
              "      <th>1</th>\n",
              "      <td>1503960366</td>\n",
              "      <td>4/13/2016</td>\n",
              "      <td>10735</td>\n",
              "      <td>6.97</td>\n",
              "      <td>6.97</td>\n",
              "      <td>0.0</td>\n",
              "      <td>1.57</td>\n",
              "      <td>0.69</td>\n",
              "      <td>4.71</td>\n",
              "      <td>0.0</td>\n",
              "      <td>21</td>\n",
              "      <td>19</td>\n",
              "      <td>217</td>\n",
              "      <td>776</td>\n",
              "      <td>1797</td>\n",
              "    </tr>\n",
              "    <tr>\n",
              "      <th>2</th>\n",
              "      <td>1503960366</td>\n",
              "      <td>4/14/2016</td>\n",
              "      <td>10460</td>\n",
              "      <td>6.74</td>\n",
              "      <td>6.74</td>\n",
              "      <td>0.0</td>\n",
              "      <td>2.44</td>\n",
              "      <td>0.40</td>\n",
              "      <td>3.91</td>\n",
              "      <td>0.0</td>\n",
              "      <td>30</td>\n",
              "      <td>11</td>\n",
              "      <td>181</td>\n",
              "      <td>1218</td>\n",
              "      <td>1776</td>\n",
              "    </tr>\n",
              "    <tr>\n",
              "      <th>3</th>\n",
              "      <td>1503960366</td>\n",
              "      <td>4/15/2016</td>\n",
              "      <td>9762</td>\n",
              "      <td>6.28</td>\n",
              "      <td>6.28</td>\n",
              "      <td>0.0</td>\n",
              "      <td>2.14</td>\n",
              "      <td>1.26</td>\n",
              "      <td>2.83</td>\n",
              "      <td>0.0</td>\n",
              "      <td>29</td>\n",
              "      <td>34</td>\n",
              "      <td>209</td>\n",
              "      <td>726</td>\n",
              "      <td>1745</td>\n",
              "    </tr>\n",
              "    <tr>\n",
              "      <th>4</th>\n",
              "      <td>1503960366</td>\n",
              "      <td>4/16/2016</td>\n",
              "      <td>12669</td>\n",
              "      <td>8.16</td>\n",
              "      <td>8.16</td>\n",
              "      <td>0.0</td>\n",
              "      <td>2.71</td>\n",
              "      <td>0.41</td>\n",
              "      <td>5.04</td>\n",
              "      <td>0.0</td>\n",
              "      <td>36</td>\n",
              "      <td>10</td>\n",
              "      <td>221</td>\n",
              "      <td>773</td>\n",
              "      <td>1863</td>\n",
              "    </tr>\n",
              "  </tbody>\n",
              "</table>\n",
              "</div>"
            ],
            "text/plain": [
              "           Id ActivityDate  ...  SedentaryMinutes  Calories\n",
              "0  1503960366    4/12/2016  ...               728      1985\n",
              "1  1503960366    4/13/2016  ...               776      1797\n",
              "2  1503960366    4/14/2016  ...              1218      1776\n",
              "3  1503960366    4/15/2016  ...               726      1745\n",
              "4  1503960366    4/16/2016  ...               773      1863\n",
              "\n",
              "[5 rows x 15 columns]"
            ]
          },
          "metadata": {},
          "execution_count": 4
        }
      ]
    },
    {
      "cell_type": "code",
      "metadata": {
        "colab": {
          "base_uri": "https://localhost:8080/",
          "height": 206
        },
        "id": "4yRbF4v1YrLJ",
        "outputId": "541278b3-b738-4961-9688-31cc48f35de5"
      },
      "source": [
        "sleepDay.head()"
      ],
      "execution_count": 85,
      "outputs": [
        {
          "output_type": "execute_result",
          "data": {
            "text/html": [
              "<div>\n",
              "<style scoped>\n",
              "    .dataframe tbody tr th:only-of-type {\n",
              "        vertical-align: middle;\n",
              "    }\n",
              "\n",
              "    .dataframe tbody tr th {\n",
              "        vertical-align: top;\n",
              "    }\n",
              "\n",
              "    .dataframe thead th {\n",
              "        text-align: right;\n",
              "    }\n",
              "</style>\n",
              "<table border=\"1\" class=\"dataframe\">\n",
              "  <thead>\n",
              "    <tr style=\"text-align: right;\">\n",
              "      <th></th>\n",
              "      <th>Id</th>\n",
              "      <th>SleepDay</th>\n",
              "      <th>TotalSleepRecords</th>\n",
              "      <th>TotalMinutesAsleep</th>\n",
              "      <th>TotalTimeInBed</th>\n",
              "    </tr>\n",
              "  </thead>\n",
              "  <tbody>\n",
              "    <tr>\n",
              "      <th>0</th>\n",
              "      <td>1503960366</td>\n",
              "      <td>4/12/2016 12:00:00 AM</td>\n",
              "      <td>1</td>\n",
              "      <td>327</td>\n",
              "      <td>346</td>\n",
              "    </tr>\n",
              "    <tr>\n",
              "      <th>1</th>\n",
              "      <td>1503960366</td>\n",
              "      <td>4/13/2016 12:00:00 AM</td>\n",
              "      <td>2</td>\n",
              "      <td>384</td>\n",
              "      <td>407</td>\n",
              "    </tr>\n",
              "    <tr>\n",
              "      <th>2</th>\n",
              "      <td>1503960366</td>\n",
              "      <td>4/15/2016 12:00:00 AM</td>\n",
              "      <td>1</td>\n",
              "      <td>412</td>\n",
              "      <td>442</td>\n",
              "    </tr>\n",
              "    <tr>\n",
              "      <th>3</th>\n",
              "      <td>1503960366</td>\n",
              "      <td>4/16/2016 12:00:00 AM</td>\n",
              "      <td>2</td>\n",
              "      <td>340</td>\n",
              "      <td>367</td>\n",
              "    </tr>\n",
              "    <tr>\n",
              "      <th>4</th>\n",
              "      <td>1503960366</td>\n",
              "      <td>4/17/2016 12:00:00 AM</td>\n",
              "      <td>1</td>\n",
              "      <td>700</td>\n",
              "      <td>712</td>\n",
              "    </tr>\n",
              "  </tbody>\n",
              "</table>\n",
              "</div>"
            ],
            "text/plain": [
              "           Id               SleepDay  ...  TotalMinutesAsleep  TotalTimeInBed\n",
              "0  1503960366  4/12/2016 12:00:00 AM  ...                 327             346\n",
              "1  1503960366  4/13/2016 12:00:00 AM  ...                 384             407\n",
              "2  1503960366  4/15/2016 12:00:00 AM  ...                 412             442\n",
              "3  1503960366  4/16/2016 12:00:00 AM  ...                 340             367\n",
              "4  1503960366  4/17/2016 12:00:00 AM  ...                 700             712\n",
              "\n",
              "[5 rows x 5 columns]"
            ]
          },
          "metadata": {},
          "execution_count": 85
        }
      ]
    },
    {
      "cell_type": "code",
      "metadata": {
        "id": "SGxhLSKXCXjM"
      },
      "source": [
        "merge1 = dailyActivity.merge(dailyCalories, on = (\"Id\",\"Calories\"))"
      ],
      "execution_count": 88,
      "outputs": []
    },
    {
      "cell_type": "code",
      "metadata": {
        "id": "BsbC0Z44EFdD"
      },
      "source": [
        "merge2 = dailyIntensities.merge(dailyIntensities, on= (\"Id\",\"ActivityDay\",\"SedentaryMinutes\", \"LightlyActiveMinutes\",\"FairlyActiveMinutes\",\"VeryActiveMinutes\", \"SedentaryActiveDistance\", \"LightActiveDistance\", \"ModeratelyActiveDistance\", \"VeryActiveDistance\"))"
      ],
      "execution_count": 89,
      "outputs": []
    },
    {
      "cell_type": "code",
      "metadata": {
        "id": "-0SRjopmFDFs"
      },
      "source": [
        "merge = merge1.merge(merge2, on =(\"Id\",\"ActivityDay\",\"SedentaryMinutes\", \"LightlyActiveMinutes\",\"FairlyActiveMinutes\",\"VeryActiveMinutes\", \"SedentaryActiveDistance\", \"LightActiveDistance\", \"ModeratelyActiveDistance\", \"VeryActiveDistance\"))"
      ],
      "execution_count": 90,
      "outputs": []
    },
    {
      "cell_type": "code",
      "metadata": {
        "id": "86AGYHIIKZVZ"
      },
      "source": [
        "daily = merge.merge(sleepDay, on = \"Id\")"
      ],
      "execution_count": 91,
      "outputs": []
    },
    {
      "cell_type": "code",
      "metadata": {
        "colab": {
          "base_uri": "https://localhost:8080/",
          "height": 399
        },
        "id": "ABI7uL9ALTeL",
        "outputId": "b14b695e-73d4-4306-bd96-b4863215adc5"
      },
      "source": [
        "daily.head()"
      ],
      "execution_count": null,
      "outputs": [
        {
          "output_type": "execute_result",
          "data": {
            "text/html": [
              "<div>\n",
              "<style scoped>\n",
              "    .dataframe tbody tr th:only-of-type {\n",
              "        vertical-align: middle;\n",
              "    }\n",
              "\n",
              "    .dataframe tbody tr th {\n",
              "        vertical-align: top;\n",
              "    }\n",
              "\n",
              "    .dataframe thead th {\n",
              "        text-align: right;\n",
              "    }\n",
              "</style>\n",
              "<table border=\"1\" class=\"dataframe\">\n",
              "  <thead>\n",
              "    <tr style=\"text-align: right;\">\n",
              "      <th></th>\n",
              "      <th>Id</th>\n",
              "      <th>ActivityDate</th>\n",
              "      <th>TotalSteps</th>\n",
              "      <th>TotalDistance</th>\n",
              "      <th>TrackerDistance</th>\n",
              "      <th>LoggedActivitiesDistance</th>\n",
              "      <th>VeryActiveDistance</th>\n",
              "      <th>ModeratelyActiveDistance</th>\n",
              "      <th>LightActiveDistance</th>\n",
              "      <th>SedentaryActiveDistance</th>\n",
              "      <th>VeryActiveMinutes</th>\n",
              "      <th>FairlyActiveMinutes</th>\n",
              "      <th>LightlyActiveMinutes</th>\n",
              "      <th>SedentaryMinutes</th>\n",
              "      <th>Calories</th>\n",
              "      <th>ActivityDay</th>\n",
              "      <th>SleepDay</th>\n",
              "      <th>TotalSleepRecords</th>\n",
              "      <th>TotalMinutesAsleep</th>\n",
              "      <th>TotalTimeInBed</th>\n",
              "    </tr>\n",
              "  </thead>\n",
              "  <tbody>\n",
              "    <tr>\n",
              "      <th>0</th>\n",
              "      <td>1503960366</td>\n",
              "      <td>4/12/2016</td>\n",
              "      <td>13162</td>\n",
              "      <td>8.5</td>\n",
              "      <td>8.5</td>\n",
              "      <td>0.0</td>\n",
              "      <td>1.88</td>\n",
              "      <td>0.55</td>\n",
              "      <td>6.06</td>\n",
              "      <td>0.0</td>\n",
              "      <td>25</td>\n",
              "      <td>13</td>\n",
              "      <td>328</td>\n",
              "      <td>728</td>\n",
              "      <td>1985</td>\n",
              "      <td>4/12/2016</td>\n",
              "      <td>4/12/2016 12:00:00 AM</td>\n",
              "      <td>1</td>\n",
              "      <td>327</td>\n",
              "      <td>346</td>\n",
              "    </tr>\n",
              "    <tr>\n",
              "      <th>1</th>\n",
              "      <td>1503960366</td>\n",
              "      <td>4/12/2016</td>\n",
              "      <td>13162</td>\n",
              "      <td>8.5</td>\n",
              "      <td>8.5</td>\n",
              "      <td>0.0</td>\n",
              "      <td>1.88</td>\n",
              "      <td>0.55</td>\n",
              "      <td>6.06</td>\n",
              "      <td>0.0</td>\n",
              "      <td>25</td>\n",
              "      <td>13</td>\n",
              "      <td>328</td>\n",
              "      <td>728</td>\n",
              "      <td>1985</td>\n",
              "      <td>4/12/2016</td>\n",
              "      <td>4/13/2016 12:00:00 AM</td>\n",
              "      <td>2</td>\n",
              "      <td>384</td>\n",
              "      <td>407</td>\n",
              "    </tr>\n",
              "    <tr>\n",
              "      <th>2</th>\n",
              "      <td>1503960366</td>\n",
              "      <td>4/12/2016</td>\n",
              "      <td>13162</td>\n",
              "      <td>8.5</td>\n",
              "      <td>8.5</td>\n",
              "      <td>0.0</td>\n",
              "      <td>1.88</td>\n",
              "      <td>0.55</td>\n",
              "      <td>6.06</td>\n",
              "      <td>0.0</td>\n",
              "      <td>25</td>\n",
              "      <td>13</td>\n",
              "      <td>328</td>\n",
              "      <td>728</td>\n",
              "      <td>1985</td>\n",
              "      <td>4/12/2016</td>\n",
              "      <td>4/15/2016 12:00:00 AM</td>\n",
              "      <td>1</td>\n",
              "      <td>412</td>\n",
              "      <td>442</td>\n",
              "    </tr>\n",
              "    <tr>\n",
              "      <th>3</th>\n",
              "      <td>1503960366</td>\n",
              "      <td>4/12/2016</td>\n",
              "      <td>13162</td>\n",
              "      <td>8.5</td>\n",
              "      <td>8.5</td>\n",
              "      <td>0.0</td>\n",
              "      <td>1.88</td>\n",
              "      <td>0.55</td>\n",
              "      <td>6.06</td>\n",
              "      <td>0.0</td>\n",
              "      <td>25</td>\n",
              "      <td>13</td>\n",
              "      <td>328</td>\n",
              "      <td>728</td>\n",
              "      <td>1985</td>\n",
              "      <td>4/12/2016</td>\n",
              "      <td>4/16/2016 12:00:00 AM</td>\n",
              "      <td>2</td>\n",
              "      <td>340</td>\n",
              "      <td>367</td>\n",
              "    </tr>\n",
              "    <tr>\n",
              "      <th>4</th>\n",
              "      <td>1503960366</td>\n",
              "      <td>4/12/2016</td>\n",
              "      <td>13162</td>\n",
              "      <td>8.5</td>\n",
              "      <td>8.5</td>\n",
              "      <td>0.0</td>\n",
              "      <td>1.88</td>\n",
              "      <td>0.55</td>\n",
              "      <td>6.06</td>\n",
              "      <td>0.0</td>\n",
              "      <td>25</td>\n",
              "      <td>13</td>\n",
              "      <td>328</td>\n",
              "      <td>728</td>\n",
              "      <td>1985</td>\n",
              "      <td>4/12/2016</td>\n",
              "      <td>4/17/2016 12:00:00 AM</td>\n",
              "      <td>1</td>\n",
              "      <td>700</td>\n",
              "      <td>712</td>\n",
              "    </tr>\n",
              "  </tbody>\n",
              "</table>\n",
              "</div>"
            ],
            "text/plain": [
              "           Id ActivityDate  ...  TotalMinutesAsleep  TotalTimeInBed\n",
              "0  1503960366    4/12/2016  ...                 327             346\n",
              "1  1503960366    4/12/2016  ...                 384             407\n",
              "2  1503960366    4/12/2016  ...                 412             442\n",
              "3  1503960366    4/12/2016  ...                 340             367\n",
              "4  1503960366    4/12/2016  ...                 700             712\n",
              "\n",
              "[5 rows x 20 columns]"
            ]
          },
          "metadata": {},
          "execution_count": 9
        }
      ]
    },
    {
      "cell_type": "markdown",
      "metadata": {
        "id": "uxdQL-CvL7_p"
      },
      "source": [
        "# Raw data input"
      ]
    },
    {
      "cell_type": "code",
      "metadata": {
        "colab": {
          "base_uri": "https://localhost:8080/"
        },
        "id": "benDaiC9MCTG",
        "outputId": "daea3ba1-b745-4a9b-ef02-1c4f1d48aa69"
      },
      "source": [
        "daily.info()"
      ],
      "execution_count": null,
      "outputs": [
        {
          "output_type": "stream",
          "name": "stdout",
          "text": [
            "<class 'pandas.core.frame.DataFrame'>\n",
            "Int64Index: 15901 entries, 0 to 15900\n",
            "Data columns (total 20 columns):\n",
            " #   Column                    Non-Null Count  Dtype  \n",
            "---  ------                    --------------  -----  \n",
            " 0   Id                        15901 non-null  int64  \n",
            " 1   ActivityDate              15901 non-null  object \n",
            " 2   TotalSteps                15901 non-null  int64  \n",
            " 3   TotalDistance             15901 non-null  float64\n",
            " 4   TrackerDistance           15901 non-null  float64\n",
            " 5   LoggedActivitiesDistance  15901 non-null  float64\n",
            " 6   VeryActiveDistance        15901 non-null  float64\n",
            " 7   ModeratelyActiveDistance  15901 non-null  float64\n",
            " 8   LightActiveDistance       15901 non-null  float64\n",
            " 9   SedentaryActiveDistance   15901 non-null  float64\n",
            " 10  VeryActiveMinutes         15901 non-null  int64  \n",
            " 11  FairlyActiveMinutes       15901 non-null  int64  \n",
            " 12  LightlyActiveMinutes      15901 non-null  int64  \n",
            " 13  SedentaryMinutes          15901 non-null  int64  \n",
            " 14  Calories                  15901 non-null  int64  \n",
            " 15  ActivityDay               15901 non-null  object \n",
            " 16  SleepDay                  15901 non-null  object \n",
            " 17  TotalSleepRecords         15901 non-null  int64  \n",
            " 18  TotalMinutesAsleep        15901 non-null  int64  \n",
            " 19  TotalTimeInBed            15901 non-null  int64  \n",
            "dtypes: float64(7), int64(10), object(3)\n",
            "memory usage: 2.5+ MB\n"
          ]
        }
      ]
    },
    {
      "cell_type": "code",
      "metadata": {
        "colab": {
          "base_uri": "https://localhost:8080/",
          "height": 320
        },
        "id": "zS9_DpTiMIG_",
        "outputId": "387d3e98-4731-4609-ed72-157b1f48e3b3"
      },
      "source": [
        "daily.describe()"
      ],
      "execution_count": null,
      "outputs": [
        {
          "output_type": "execute_result",
          "data": {
            "text/html": [
              "<div>\n",
              "<style scoped>\n",
              "    .dataframe tbody tr th:only-of-type {\n",
              "        vertical-align: middle;\n",
              "    }\n",
              "\n",
              "    .dataframe tbody tr th {\n",
              "        vertical-align: top;\n",
              "    }\n",
              "\n",
              "    .dataframe thead th {\n",
              "        text-align: right;\n",
              "    }\n",
              "</style>\n",
              "<table border=\"1\" class=\"dataframe\">\n",
              "  <thead>\n",
              "    <tr style=\"text-align: right;\">\n",
              "      <th></th>\n",
              "      <th>Id</th>\n",
              "      <th>TotalSteps</th>\n",
              "      <th>TotalDistance</th>\n",
              "      <th>TrackerDistance</th>\n",
              "      <th>LoggedActivitiesDistance</th>\n",
              "      <th>VeryActiveDistance</th>\n",
              "      <th>ModeratelyActiveDistance</th>\n",
              "      <th>LightActiveDistance</th>\n",
              "      <th>SedentaryActiveDistance</th>\n",
              "      <th>VeryActiveMinutes</th>\n",
              "      <th>FairlyActiveMinutes</th>\n",
              "      <th>LightlyActiveMinutes</th>\n",
              "      <th>SedentaryMinutes</th>\n",
              "      <th>Calories</th>\n",
              "      <th>TotalSleepRecords</th>\n",
              "      <th>TotalMinutesAsleep</th>\n",
              "      <th>TotalTimeInBed</th>\n",
              "    </tr>\n",
              "  </thead>\n",
              "  <tbody>\n",
              "    <tr>\n",
              "      <th>count</th>\n",
              "      <td>1.590100e+04</td>\n",
              "      <td>15901.000000</td>\n",
              "      <td>15901.000000</td>\n",
              "      <td>15901.000000</td>\n",
              "      <td>15901.000000</td>\n",
              "      <td>15901.000000</td>\n",
              "      <td>15901.000000</td>\n",
              "      <td>15901.000000</td>\n",
              "      <td>15901.000000</td>\n",
              "      <td>15901.000000</td>\n",
              "      <td>15901.000000</td>\n",
              "      <td>15901.000000</td>\n",
              "      <td>15901.000000</td>\n",
              "      <td>15901.000000</td>\n",
              "      <td>15901.000000</td>\n",
              "      <td>15901.000000</td>\n",
              "      <td>15901.000000</td>\n",
              "    </tr>\n",
              "    <tr>\n",
              "      <th>mean</th>\n",
              "      <td>5.116919e+09</td>\n",
              "      <td>6351.012138</td>\n",
              "      <td>4.486880</td>\n",
              "      <td>4.481426</td>\n",
              "      <td>0.096494</td>\n",
              "      <td>1.094280</td>\n",
              "      <td>0.572868</td>\n",
              "      <td>2.771094</td>\n",
              "      <td>0.000528</td>\n",
              "      <td>18.756996</td>\n",
              "      <td>13.576442</td>\n",
              "      <td>156.408025</td>\n",
              "      <td>938.631658</td>\n",
              "      <td>2220.168291</td>\n",
              "      <td>1.115716</td>\n",
              "      <td>417.299164</td>\n",
              "      <td>456.068109</td>\n",
              "    </tr>\n",
              "    <tr>\n",
              "      <th>std</th>\n",
              "      <td>2.184244e+09</td>\n",
              "      <td>5187.657882</td>\n",
              "      <td>3.718941</td>\n",
              "      <td>3.711934</td>\n",
              "      <td>0.491847</td>\n",
              "      <td>1.787582</td>\n",
              "      <td>0.966130</td>\n",
              "      <td>2.212866</td>\n",
              "      <td>0.006917</td>\n",
              "      <td>32.425740</td>\n",
              "      <td>21.584289</td>\n",
              "      <td>119.173005</td>\n",
              "      <td>354.396671</td>\n",
              "      <td>711.184059</td>\n",
              "      <td>0.355114</td>\n",
              "      <td>123.067587</td>\n",
              "      <td>139.639428</td>\n",
              "    </tr>\n",
              "    <tr>\n",
              "      <th>min</th>\n",
              "      <td>1.503960e+09</td>\n",
              "      <td>0.000000</td>\n",
              "      <td>0.000000</td>\n",
              "      <td>0.000000</td>\n",
              "      <td>0.000000</td>\n",
              "      <td>0.000000</td>\n",
              "      <td>0.000000</td>\n",
              "      <td>0.000000</td>\n",
              "      <td>0.000000</td>\n",
              "      <td>0.000000</td>\n",
              "      <td>0.000000</td>\n",
              "      <td>0.000000</td>\n",
              "      <td>0.000000</td>\n",
              "      <td>0.000000</td>\n",
              "      <td>1.000000</td>\n",
              "      <td>58.000000</td>\n",
              "      <td>61.000000</td>\n",
              "    </tr>\n",
              "    <tr>\n",
              "      <th>25%</th>\n",
              "      <td>4.020333e+09</td>\n",
              "      <td>0.000000</td>\n",
              "      <td>0.000000</td>\n",
              "      <td>0.000000</td>\n",
              "      <td>0.000000</td>\n",
              "      <td>0.000000</td>\n",
              "      <td>0.000000</td>\n",
              "      <td>0.000000</td>\n",
              "      <td>0.000000</td>\n",
              "      <td>0.000000</td>\n",
              "      <td>0.000000</td>\n",
              "      <td>0.000000</td>\n",
              "      <td>687.000000</td>\n",
              "      <td>1693.000000</td>\n",
              "      <td>1.000000</td>\n",
              "      <td>360.000000</td>\n",
              "      <td>402.000000</td>\n",
              "    </tr>\n",
              "    <tr>\n",
              "      <th>50%</th>\n",
              "      <td>4.702922e+09</td>\n",
              "      <td>6393.000000</td>\n",
              "      <td>4.480000</td>\n",
              "      <td>4.480000</td>\n",
              "      <td>0.000000</td>\n",
              "      <td>0.000000</td>\n",
              "      <td>0.110000</td>\n",
              "      <td>2.860000</td>\n",
              "      <td>0.000000</td>\n",
              "      <td>0.000000</td>\n",
              "      <td>3.000000</td>\n",
              "      <td>171.000000</td>\n",
              "      <td>781.000000</td>\n",
              "      <td>2013.000000</td>\n",
              "      <td>1.000000</td>\n",
              "      <td>427.000000</td>\n",
              "      <td>459.000000</td>\n",
              "    </tr>\n",
              "    <tr>\n",
              "      <th>75%</th>\n",
              "      <td>6.962181e+09</td>\n",
              "      <td>10460.000000</td>\n",
              "      <td>7.390000</td>\n",
              "      <td>7.390000</td>\n",
              "      <td>0.000000</td>\n",
              "      <td>1.740000</td>\n",
              "      <td>0.790000</td>\n",
              "      <td>4.480000</td>\n",
              "      <td>0.000000</td>\n",
              "      <td>28.000000</td>\n",
              "      <td>19.000000</td>\n",
              "      <td>240.000000</td>\n",
              "      <td>1440.000000</td>\n",
              "      <td>2643.000000</td>\n",
              "      <td>1.000000</td>\n",
              "      <td>490.000000</td>\n",
              "      <td>530.000000</td>\n",
              "    </tr>\n",
              "    <tr>\n",
              "      <th>max</th>\n",
              "      <td>8.792010e+09</td>\n",
              "      <td>22988.000000</td>\n",
              "      <td>17.950001</td>\n",
              "      <td>17.950001</td>\n",
              "      <td>4.942142</td>\n",
              "      <td>13.400000</td>\n",
              "      <td>6.480000</td>\n",
              "      <td>10.300000</td>\n",
              "      <td>0.110000</td>\n",
              "      <td>210.000000</td>\n",
              "      <td>143.000000</td>\n",
              "      <td>518.000000</td>\n",
              "      <td>1440.000000</td>\n",
              "      <td>4900.000000</td>\n",
              "      <td>3.000000</td>\n",
              "      <td>796.000000</td>\n",
              "      <td>961.000000</td>\n",
              "    </tr>\n",
              "  </tbody>\n",
              "</table>\n",
              "</div>"
            ],
            "text/plain": [
              "                 Id    TotalSteps  ...  TotalMinutesAsleep  TotalTimeInBed\n",
              "count  1.590100e+04  15901.000000  ...        15901.000000    15901.000000\n",
              "mean   5.116919e+09   6351.012138  ...          417.299164      456.068109\n",
              "std    2.184244e+09   5187.657882  ...          123.067587      139.639428\n",
              "min    1.503960e+09      0.000000  ...           58.000000       61.000000\n",
              "25%    4.020333e+09      0.000000  ...          360.000000      402.000000\n",
              "50%    4.702922e+09   6393.000000  ...          427.000000      459.000000\n",
              "75%    6.962181e+09  10460.000000  ...          490.000000      530.000000\n",
              "max    8.792010e+09  22988.000000  ...          796.000000      961.000000\n",
              "\n",
              "[8 rows x 17 columns]"
            ]
          },
          "metadata": {},
          "execution_count": 11
        }
      ]
    },
    {
      "cell_type": "code",
      "metadata": {
        "colab": {
          "base_uri": "https://localhost:8080/",
          "height": 267
        },
        "id": "cI8MW4xnMLVT",
        "outputId": "fae5f2de-a7f5-4cc9-b7a1-3d7457d43110"
      },
      "source": [
        "daily.head(3)"
      ],
      "execution_count": null,
      "outputs": [
        {
          "output_type": "execute_result",
          "data": {
            "text/html": [
              "<div>\n",
              "<style scoped>\n",
              "    .dataframe tbody tr th:only-of-type {\n",
              "        vertical-align: middle;\n",
              "    }\n",
              "\n",
              "    .dataframe tbody tr th {\n",
              "        vertical-align: top;\n",
              "    }\n",
              "\n",
              "    .dataframe thead th {\n",
              "        text-align: right;\n",
              "    }\n",
              "</style>\n",
              "<table border=\"1\" class=\"dataframe\">\n",
              "  <thead>\n",
              "    <tr style=\"text-align: right;\">\n",
              "      <th></th>\n",
              "      <th>Id</th>\n",
              "      <th>ActivityDate</th>\n",
              "      <th>TotalSteps</th>\n",
              "      <th>TotalDistance</th>\n",
              "      <th>TrackerDistance</th>\n",
              "      <th>LoggedActivitiesDistance</th>\n",
              "      <th>VeryActiveDistance</th>\n",
              "      <th>ModeratelyActiveDistance</th>\n",
              "      <th>LightActiveDistance</th>\n",
              "      <th>SedentaryActiveDistance</th>\n",
              "      <th>VeryActiveMinutes</th>\n",
              "      <th>FairlyActiveMinutes</th>\n",
              "      <th>LightlyActiveMinutes</th>\n",
              "      <th>SedentaryMinutes</th>\n",
              "      <th>Calories</th>\n",
              "      <th>ActivityDay</th>\n",
              "      <th>SleepDay</th>\n",
              "      <th>TotalSleepRecords</th>\n",
              "      <th>TotalMinutesAsleep</th>\n",
              "      <th>TotalTimeInBed</th>\n",
              "    </tr>\n",
              "  </thead>\n",
              "  <tbody>\n",
              "    <tr>\n",
              "      <th>0</th>\n",
              "      <td>1503960366</td>\n",
              "      <td>4/12/2016</td>\n",
              "      <td>13162</td>\n",
              "      <td>8.5</td>\n",
              "      <td>8.5</td>\n",
              "      <td>0.0</td>\n",
              "      <td>1.88</td>\n",
              "      <td>0.55</td>\n",
              "      <td>6.06</td>\n",
              "      <td>0.0</td>\n",
              "      <td>25</td>\n",
              "      <td>13</td>\n",
              "      <td>328</td>\n",
              "      <td>728</td>\n",
              "      <td>1985</td>\n",
              "      <td>4/12/2016</td>\n",
              "      <td>4/12/2016 12:00:00 AM</td>\n",
              "      <td>1</td>\n",
              "      <td>327</td>\n",
              "      <td>346</td>\n",
              "    </tr>\n",
              "    <tr>\n",
              "      <th>1</th>\n",
              "      <td>1503960366</td>\n",
              "      <td>4/12/2016</td>\n",
              "      <td>13162</td>\n",
              "      <td>8.5</td>\n",
              "      <td>8.5</td>\n",
              "      <td>0.0</td>\n",
              "      <td>1.88</td>\n",
              "      <td>0.55</td>\n",
              "      <td>6.06</td>\n",
              "      <td>0.0</td>\n",
              "      <td>25</td>\n",
              "      <td>13</td>\n",
              "      <td>328</td>\n",
              "      <td>728</td>\n",
              "      <td>1985</td>\n",
              "      <td>4/12/2016</td>\n",
              "      <td>4/13/2016 12:00:00 AM</td>\n",
              "      <td>2</td>\n",
              "      <td>384</td>\n",
              "      <td>407</td>\n",
              "    </tr>\n",
              "    <tr>\n",
              "      <th>2</th>\n",
              "      <td>1503960366</td>\n",
              "      <td>4/12/2016</td>\n",
              "      <td>13162</td>\n",
              "      <td>8.5</td>\n",
              "      <td>8.5</td>\n",
              "      <td>0.0</td>\n",
              "      <td>1.88</td>\n",
              "      <td>0.55</td>\n",
              "      <td>6.06</td>\n",
              "      <td>0.0</td>\n",
              "      <td>25</td>\n",
              "      <td>13</td>\n",
              "      <td>328</td>\n",
              "      <td>728</td>\n",
              "      <td>1985</td>\n",
              "      <td>4/12/2016</td>\n",
              "      <td>4/15/2016 12:00:00 AM</td>\n",
              "      <td>1</td>\n",
              "      <td>412</td>\n",
              "      <td>442</td>\n",
              "    </tr>\n",
              "  </tbody>\n",
              "</table>\n",
              "</div>"
            ],
            "text/plain": [
              "           Id ActivityDate  ...  TotalMinutesAsleep  TotalTimeInBed\n",
              "0  1503960366    4/12/2016  ...                 327             346\n",
              "1  1503960366    4/12/2016  ...                 384             407\n",
              "2  1503960366    4/12/2016  ...                 412             442\n",
              "\n",
              "[3 rows x 20 columns]"
            ]
          },
          "metadata": {},
          "execution_count": 12
        }
      ]
    },
    {
      "cell_type": "markdown",
      "metadata": {
        "id": "Vqdyl4p-Mtt_"
      },
      "source": [
        "# Missing Data"
      ]
    },
    {
      "cell_type": "code",
      "metadata": {
        "colab": {
          "base_uri": "https://localhost:8080/"
        },
        "id": "TQcodDrmMu72",
        "outputId": "393120a7-028f-4e3b-8982-f79847829877"
      },
      "source": [
        "daily.isna().sum()"
      ],
      "execution_count": 93,
      "outputs": [
        {
          "output_type": "execute_result",
          "data": {
            "text/plain": [
              "Id                          0\n",
              "ActivityDate                0\n",
              "TotalSteps                  0\n",
              "TotalDistance               0\n",
              "TrackerDistance             0\n",
              "LoggedActivitiesDistance    0\n",
              "VeryActiveDistance          0\n",
              "ModeratelyActiveDistance    0\n",
              "LightActiveDistance         0\n",
              "SedentaryActiveDistance     0\n",
              "VeryActiveMinutes           0\n",
              "FairlyActiveMinutes         0\n",
              "LightlyActiveMinutes        0\n",
              "SedentaryMinutes            0\n",
              "Calories                    0\n",
              "ActivityDay                 0\n",
              "SleepDay                    0\n",
              "TotalSleepRecords           0\n",
              "TotalMinutesAsleep          0\n",
              "TotalTimeInBed              0\n",
              "dtype: int64"
            ]
          },
          "metadata": {},
          "execution_count": 93
        }
      ]
    },
    {
      "cell_type": "code",
      "metadata": {
        "colab": {
          "base_uri": "https://localhost:8080/"
        },
        "id": "UmYHuDMJPISU",
        "outputId": "3b46fe1f-4cb3-4f37-b51d-d15b54e0321e"
      },
      "source": [
        "daily.dtypes"
      ],
      "execution_count": null,
      "outputs": [
        {
          "output_type": "execute_result",
          "data": {
            "text/plain": [
              "Id                            int64\n",
              "ActivityDate                 object\n",
              "TotalSteps                    int64\n",
              "TotalDistance               float64\n",
              "TrackerDistance             float64\n",
              "LoggedActivitiesDistance    float64\n",
              "VeryActiveDistance          float64\n",
              "ModeratelyActiveDistance    float64\n",
              "LightActiveDistance         float64\n",
              "SedentaryActiveDistance     float64\n",
              "VeryActiveMinutes             int64\n",
              "FairlyActiveMinutes           int64\n",
              "LightlyActiveMinutes          int64\n",
              "SedentaryMinutes              int64\n",
              "Calories                      int64\n",
              "ActivityDay                  object\n",
              "SleepDay                     object\n",
              "TotalSleepRecords             int64\n",
              "TotalMinutesAsleep            int64\n",
              "TotalTimeInBed                int64\n",
              "dtype: object"
            ]
          },
          "metadata": {},
          "execution_count": 14
        }
      ]
    },
    {
      "cell_type": "markdown",
      "metadata": {
        "id": "EIozJTfASAcR"
      },
      "source": [
        "# Data Transform"
      ]
    },
    {
      "cell_type": "code",
      "metadata": {
        "colab": {
          "base_uri": "https://localhost:8080/"
        },
        "id": "Ulywxop2ZGRM",
        "outputId": "22f9b33d-ef4c-4190-e884-d4c05cadfbb0"
      },
      "source": [
        "daily['SedentaryMinutes'].describe()"
      ],
      "execution_count": null,
      "outputs": [
        {
          "output_type": "execute_result",
          "data": {
            "text/plain": [
              "count    15901.000000\n",
              "mean       938.631658\n",
              "std        354.396671\n",
              "min          0.000000\n",
              "25%        687.000000\n",
              "50%        781.000000\n",
              "75%       1440.000000\n",
              "max       1440.000000\n",
              "Name: SedentaryMinutes, dtype: float64"
            ]
          },
          "metadata": {},
          "execution_count": 15
        }
      ]
    },
    {
      "cell_type": "code",
      "metadata": {
        "colab": {
          "base_uri": "https://localhost:8080/"
        },
        "id": "_CIHEjIiZfWF",
        "outputId": "0436179b-d94c-407f-fafa-c916168f2dbb"
      },
      "source": [
        "daily['VeryActiveMinutes'].describe()"
      ],
      "execution_count": null,
      "outputs": [
        {
          "output_type": "execute_result",
          "data": {
            "text/plain": [
              "count    15901.000000\n",
              "mean        18.756996\n",
              "std         32.425740\n",
              "min          0.000000\n",
              "25%          0.000000\n",
              "50%          0.000000\n",
              "75%         28.000000\n",
              "max        210.000000\n",
              "Name: VeryActiveMinutes, dtype: float64"
            ]
          },
          "metadata": {},
          "execution_count": 16
        }
      ]
    },
    {
      "cell_type": "code",
      "metadata": {
        "id": "xs7fvttNb1TH"
      },
      "source": [
        "daily.to_csv('/content/drive/MyDrive/Colab Notebooks/Bellabeat/Data/daily_merged.csv')"
      ],
      "execution_count": null,
      "outputs": []
    },
    {
      "cell_type": "markdown",
      "metadata": {
        "id": "GxBwoPqSJ_I7"
      },
      "source": [
        "# Visualization"
      ]
    },
    {
      "cell_type": "code",
      "metadata": {
        "id": "G03yUl13hiDT",
        "colab": {
          "base_uri": "https://localhost:8080/",
          "height": 545
        },
        "outputId": "b44204bc-07ce-40ba-9861-5bbcb15b0eb3"
      },
      "source": [
        "(\n",
        "    ggplot(dailyActivity, aes(x= 'TotalSteps', y= 'Calories'))\n",
        "    + geom_point()\n",
        "    + geom_smooth()\n",
        "    + labs(title=\"Total Steps vs. Calories\")\n",
        ")"
      ],
      "execution_count": 14,
      "outputs": [
        {
          "output_type": "stream",
          "name": "stderr",
          "text": [
            "/usr/local/lib/python3.7/dist-packages/plotnine/stats/smoothers.py:168: PlotnineWarning: Confidence intervals are not yet implementedfor lowess smoothings.\n",
            "  \"for lowess smoothings.\", PlotnineWarning)\n"
          ]
        },
        {
          "output_type": "display_data",
          "data": {
            "image/png": "[encoded data removed]",
            "text/plain": [
              "<Figure size 640x480 with 1 Axes>"
            ]
          },
          "metadata": {}
        },
        {
          "output_type": "execute_result",
          "data": {
            "text/plain": [
              "<ggplot: (8734077026513)>"
            ]
          },
          "metadata": {},
          "execution_count": 14
        }
      ]
    },
    {
      "cell_type": "code",
      "metadata": {
        "colab": {
          "base_uri": "https://localhost:8080/",
          "height": 491
        },
        "id": "uNhncxLULZa9",
        "outputId": "810bbfbb-4704-4af8-f653-d997e794cafd"
      },
      "source": [
        "(\n",
        "    ggplot(sleepDay, aes(x='TotalMinutesAsleep', y= 'TotalTimeInBed')) \n",
        "    + geom_point()\n",
        "    + labs(title=\"Total Minutes Asleep vs. Total Time in Bed\")\n",
        ")"
      ],
      "execution_count": 19,
      "outputs": [
        {
          "output_type": "display_data",
          "data": {
            "image/png": "[encoded data removed]",
            "text/plain": [
              "<Figure size 640x480 with 1 Axes>"
            ]
          },
          "metadata": {}
        },
        {
          "output_type": "execute_result",
          "data": {
            "text/plain": [
              "<ggplot: (8734077026925)>"
            ]
          },
          "metadata": {},
          "execution_count": 19
        }
      ]
    },
    {
      "cell_type": "code",
      "metadata": {
        "colab": {
          "base_uri": "https://localhost:8080/",
          "height": 226
        },
        "id": "iAxQBXNzNc0v",
        "outputId": "9eff9932-bc27-43d3-f644-941a99602777"
      },
      "source": [
        "dailyIntensities.head()"
      ],
      "execution_count": 23,
      "outputs": [
        {
          "output_type": "execute_result",
          "data": {
            "text/html": [
              "<div>\n",
              "<style scoped>\n",
              "    .dataframe tbody tr th:only-of-type {\n",
              "        vertical-align: middle;\n",
              "    }\n",
              "\n",
              "    .dataframe tbody tr th {\n",
              "        vertical-align: top;\n",
              "    }\n",
              "\n",
              "    .dataframe thead th {\n",
              "        text-align: right;\n",
              "    }\n",
              "</style>\n",
              "<table border=\"1\" class=\"dataframe\">\n",
              "  <thead>\n",
              "    <tr style=\"text-align: right;\">\n",
              "      <th></th>\n",
              "      <th>Id</th>\n",
              "      <th>ActivityDay</th>\n",
              "      <th>SedentaryMinutes</th>\n",
              "      <th>LightlyActiveMinutes</th>\n",
              "      <th>FairlyActiveMinutes</th>\n",
              "      <th>VeryActiveMinutes</th>\n",
              "      <th>SedentaryActiveDistance</th>\n",
              "      <th>LightActiveDistance</th>\n",
              "      <th>ModeratelyActiveDistance</th>\n",
              "      <th>VeryActiveDistance</th>\n",
              "    </tr>\n",
              "  </thead>\n",
              "  <tbody>\n",
              "    <tr>\n",
              "      <th>0</th>\n",
              "      <td>1503960366</td>\n",
              "      <td>4/12/2016</td>\n",
              "      <td>728</td>\n",
              "      <td>328</td>\n",
              "      <td>13</td>\n",
              "      <td>25</td>\n",
              "      <td>0.0</td>\n",
              "      <td>6.06</td>\n",
              "      <td>0.55</td>\n",
              "      <td>1.88</td>\n",
              "    </tr>\n",
              "    <tr>\n",
              "      <th>1</th>\n",
              "      <td>1503960366</td>\n",
              "      <td>4/13/2016</td>\n",
              "      <td>776</td>\n",
              "      <td>217</td>\n",
              "      <td>19</td>\n",
              "      <td>21</td>\n",
              "      <td>0.0</td>\n",
              "      <td>4.71</td>\n",
              "      <td>0.69</td>\n",
              "      <td>1.57</td>\n",
              "    </tr>\n",
              "    <tr>\n",
              "      <th>2</th>\n",
              "      <td>1503960366</td>\n",
              "      <td>4/14/2016</td>\n",
              "      <td>1218</td>\n",
              "      <td>181</td>\n",
              "      <td>11</td>\n",
              "      <td>30</td>\n",
              "      <td>0.0</td>\n",
              "      <td>3.91</td>\n",
              "      <td>0.40</td>\n",
              "      <td>2.44</td>\n",
              "    </tr>\n",
              "    <tr>\n",
              "      <th>3</th>\n",
              "      <td>1503960366</td>\n",
              "      <td>4/15/2016</td>\n",
              "      <td>726</td>\n",
              "      <td>209</td>\n",
              "      <td>34</td>\n",
              "      <td>29</td>\n",
              "      <td>0.0</td>\n",
              "      <td>2.83</td>\n",
              "      <td>1.26</td>\n",
              "      <td>2.14</td>\n",
              "    </tr>\n",
              "    <tr>\n",
              "      <th>4</th>\n",
              "      <td>1503960366</td>\n",
              "      <td>4/16/2016</td>\n",
              "      <td>773</td>\n",
              "      <td>221</td>\n",
              "      <td>10</td>\n",
              "      <td>36</td>\n",
              "      <td>0.0</td>\n",
              "      <td>5.04</td>\n",
              "      <td>0.41</td>\n",
              "      <td>2.71</td>\n",
              "    </tr>\n",
              "  </tbody>\n",
              "</table>\n",
              "</div>"
            ],
            "text/plain": [
              "           Id ActivityDay  ...  ModeratelyActiveDistance  VeryActiveDistance\n",
              "0  1503960366   4/12/2016  ...                      0.55                1.88\n",
              "1  1503960366   4/13/2016  ...                      0.69                1.57\n",
              "2  1503960366   4/14/2016  ...                      0.40                2.44\n",
              "3  1503960366   4/15/2016  ...                      1.26                2.14\n",
              "4  1503960366   4/16/2016  ...                      0.41                2.71\n",
              "\n",
              "[5 rows x 10 columns]"
            ]
          },
          "metadata": {},
          "execution_count": 23
        }
      ]
    },
    {
      "cell_type": "code",
      "metadata": {
        "id": "7y8UDAWsO3QD"
      },
      "source": [
        "HourlyIntensities = pd.read_csv(\"/content/drive/MyDrive/Colab Notebooks/Bellabeat/Data/hourlyIntensities_merged.csv\")"
      ],
      "execution_count": 31,
      "outputs": []
    },
    {
      "cell_type": "code",
      "metadata": {
        "colab": {
          "base_uri": "https://localhost:8080/",
          "height": 206
        },
        "id": "j6A2oRWGNMpU",
        "outputId": "84ec9c80-f3a4-48e7-873b-53ce6fba36cd"
      },
      "source": [
        "HourlyIntensities.head()"
      ],
      "execution_count": 119,
      "outputs": [
        {
          "output_type": "execute_result",
          "data": {
            "text/html": [
              "<div>\n",
              "<style scoped>\n",
              "    .dataframe tbody tr th:only-of-type {\n",
              "        vertical-align: middle;\n",
              "    }\n",
              "\n",
              "    .dataframe tbody tr th {\n",
              "        vertical-align: top;\n",
              "    }\n",
              "\n",
              "    .dataframe thead th {\n",
              "        text-align: right;\n",
              "    }\n",
              "</style>\n",
              "<table border=\"1\" class=\"dataframe\">\n",
              "  <thead>\n",
              "    <tr style=\"text-align: right;\">\n",
              "      <th></th>\n",
              "      <th>Id</th>\n",
              "      <th>ActivityHour</th>\n",
              "      <th>TotalIntensity</th>\n",
              "      <th>AverageIntensity</th>\n",
              "      <th>Date</th>\n",
              "      <th>Time</th>\n",
              "    </tr>\n",
              "  </thead>\n",
              "  <tbody>\n",
              "    <tr>\n",
              "      <th>0</th>\n",
              "      <td>1503960366</td>\n",
              "      <td>4/12/2016 0:00</td>\n",
              "      <td>20</td>\n",
              "      <td>0.333333</td>\n",
              "      <td>4/12/2016</td>\n",
              "      <td>0:00</td>\n",
              "    </tr>\n",
              "    <tr>\n",
              "      <th>1</th>\n",
              "      <td>1503960366</td>\n",
              "      <td>4/12/2016 1:00</td>\n",
              "      <td>8</td>\n",
              "      <td>0.133333</td>\n",
              "      <td>4/12/2016</td>\n",
              "      <td>1:00</td>\n",
              "    </tr>\n",
              "    <tr>\n",
              "      <th>2</th>\n",
              "      <td>1503960366</td>\n",
              "      <td>4/12/2016 2:00</td>\n",
              "      <td>7</td>\n",
              "      <td>0.116667</td>\n",
              "      <td>4/12/2016</td>\n",
              "      <td>2:00</td>\n",
              "    </tr>\n",
              "    <tr>\n",
              "      <th>3</th>\n",
              "      <td>1503960366</td>\n",
              "      <td>4/12/2016 3:00</td>\n",
              "      <td>0</td>\n",
              "      <td>0.000000</td>\n",
              "      <td>4/12/2016</td>\n",
              "      <td>3:00</td>\n",
              "    </tr>\n",
              "    <tr>\n",
              "      <th>4</th>\n",
              "      <td>1503960366</td>\n",
              "      <td>4/12/2016 4:00</td>\n",
              "      <td>0</td>\n",
              "      <td>0.000000</td>\n",
              "      <td>4/12/2016</td>\n",
              "      <td>4:00</td>\n",
              "    </tr>\n",
              "  </tbody>\n",
              "</table>\n",
              "</div>"
            ],
            "text/plain": [
              "           Id    ActivityHour  ...       Date  Time\n",
              "0  1503960366  4/12/2016 0:00  ...  4/12/2016  0:00\n",
              "1  1503960366  4/12/2016 1:00  ...  4/12/2016  1:00\n",
              "2  1503960366  4/12/2016 2:00  ...  4/12/2016  2:00\n",
              "3  1503960366  4/12/2016 3:00  ...  4/12/2016  3:00\n",
              "4  1503960366  4/12/2016 4:00  ...  4/12/2016  4:00\n",
              "\n",
              "[5 rows x 6 columns]"
            ]
          },
          "metadata": {},
          "execution_count": 119
        }
      ]
    },
    {
      "cell_type": "code",
      "metadata": {
        "id": "uEcV9UKsMWRa"
      },
      "source": [
        "new_Intensities = HourlyIntensities.groupby(['Time']).mean(HourlyIntensities['AverageIntensity'].mean())"
      ],
      "execution_count": 145,
      "outputs": []
    },
    {
      "cell_type": "code",
      "metadata": {
        "colab": {
          "base_uri": "https://localhost:8080/",
          "height": 237
        },
        "id": "1y62OuBsM-ay",
        "outputId": "0157be09-8f27-473c-8740-3751388d0b80"
      },
      "source": [
        "new_Intensities.head()"
      ],
      "execution_count": 146,
      "outputs": [
        {
          "output_type": "execute_result",
          "data": {
            "text/html": [
              "<div>\n",
              "<style scoped>\n",
              "    .dataframe tbody tr th:only-of-type {\n",
              "        vertical-align: middle;\n",
              "    }\n",
              "\n",
              "    .dataframe tbody tr th {\n",
              "        vertical-align: top;\n",
              "    }\n",
              "\n",
              "    .dataframe thead th {\n",
              "        text-align: right;\n",
              "    }\n",
              "</style>\n",
              "<table border=\"1\" class=\"dataframe\">\n",
              "  <thead>\n",
              "    <tr style=\"text-align: right;\">\n",
              "      <th></th>\n",
              "      <th>Id</th>\n",
              "      <th>TotalIntensity</th>\n",
              "      <th>AverageIntensity</th>\n",
              "    </tr>\n",
              "    <tr>\n",
              "      <th>Time</th>\n",
              "      <th></th>\n",
              "      <th></th>\n",
              "      <th></th>\n",
              "    </tr>\n",
              "  </thead>\n",
              "  <tbody>\n",
              "    <tr>\n",
              "      <th>0:00</th>\n",
              "      <td>4.846554e+09</td>\n",
              "      <td>2.129550</td>\n",
              "      <td>0.035493</td>\n",
              "    </tr>\n",
              "    <tr>\n",
              "      <th>10:00</th>\n",
              "      <td>4.844647e+09</td>\n",
              "      <td>17.643703</td>\n",
              "      <td>0.294062</td>\n",
              "    </tr>\n",
              "    <tr>\n",
              "      <th>11:00</th>\n",
              "      <td>4.848036e+09</td>\n",
              "      <td>16.921251</td>\n",
              "      <td>0.282021</td>\n",
              "    </tr>\n",
              "    <tr>\n",
              "      <th>12:00</th>\n",
              "      <td>4.847948e+09</td>\n",
              "      <td>19.847072</td>\n",
              "      <td>0.330785</td>\n",
              "    </tr>\n",
              "    <tr>\n",
              "      <th>13:00</th>\n",
              "      <td>4.845518e+09</td>\n",
              "      <td>18.775244</td>\n",
              "      <td>0.312921</td>\n",
              "    </tr>\n",
              "  </tbody>\n",
              "</table>\n",
              "</div>"
            ],
            "text/plain": [
              "                 Id  TotalIntensity  AverageIntensity\n",
              "Time                                                 \n",
              "0:00   4.846554e+09        2.129550          0.035493\n",
              "10:00  4.844647e+09       17.643703          0.294062\n",
              "11:00  4.848036e+09       16.921251          0.282021\n",
              "12:00  4.847948e+09       19.847072          0.330785\n",
              "13:00  4.845518e+09       18.775244          0.312921"
            ]
          },
          "metadata": {},
          "execution_count": 146
        }
      ]
    },
    {
      "cell_type": "code",
      "metadata": {
        "colab": {
          "base_uri": "https://localhost:8080/"
        },
        "id": "ryalPkY9hSnI",
        "outputId": "74979ea6-f301-4751-90a1-4298a24272b8"
      },
      "source": [
        "new_Intensities.dtypes"
      ],
      "execution_count": 150,
      "outputs": [
        {
          "output_type": "execute_result",
          "data": {
            "text/plain": [
              "Id                  float64\n",
              "TotalIntensity      float64\n",
              "AverageIntensity    float64\n",
              "dtype: object"
            ]
          },
          "metadata": {},
          "execution_count": 150
        }
      ]
    },
    {
      "cell_type": "code",
      "metadata": {
        "colab": {
          "base_uri": "https://localhost:8080/",
          "height": 297
        },
        "id": "wiIymjkXqA99",
        "outputId": "ebcfbf30-5342-4993-d05a-b4410d50d14d"
      },
      "source": [
        "fig_dims = (14, 4)\n",
        "fig, ax = plt.subplots(figsize=fig_dims)\n",
        "\n",
        "sns.barplot(x='Time',y='TotalIntensity', data=HourlyIntensities.groupby(['Time']).mean(HourlyIntensities['AverageIntensity'].mean()).reset_index())\n"
      ],
      "execution_count": 158,
      "outputs": [
        {
          "output_type": "execute_result",
          "data": {
            "text/plain": [
              "<matplotlib.axes._subplots.AxesSubplot at 0x7f18e9abed10>"
            ]
          },
          "metadata": {},
          "execution_count": 158
        },
        {
          "output_type": "display_data",
          "data": {
            "image/png": "[encoded data removed]",
            "text/plain": [
              "<Figure size 1008x288 with 1 Axes>"
            ]
          },
          "metadata": {
            "needs_background": "light"
          }
        }
      ]
    },
    {
      "cell_type": "code",
      "metadata": {
        "colab": {
          "base_uri": "https://localhost:8080/",
          "height": 491
        },
        "id": "D0ufxPs4VR7D",
        "outputId": "592efa13-6688-4d4e-9ddc-c1fa46285f32"
      },
      "source": [
        "(\n",
        "    ggplot(daily, aes(x='TotalMinutesAsleep', y='SedentaryMinutes')) \n",
        "    + geom_smooth() \n",
        "    + labs(title=\"Minutes Asleep vs. Sedentary Minutes\")\n",
        ")"
      ],
      "execution_count": 147,
      "outputs": [
        {
          "output_type": "display_data",
          "data": {
            "image/png": "[encoded data removed]",
            "text/plain": [
              "<Figure size 640x480 with 1 Axes>"
            ]
          },
          "metadata": {}
        },
        {
          "output_type": "execute_result",
          "data": {
            "text/plain": [
              "<ggplot: (8734071216505)>"
            ]
          },
          "metadata": {},
          "execution_count": 147
        }
      ]
    },
    {
      "cell_type": "code",
      "metadata": {
        "id": "e4n1eluLVzKK"
      },
      "source": [
        ""
      ],
      "execution_count": null,
      "outputs": []
    }
  ]
}